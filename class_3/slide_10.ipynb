{
 "cells": [
  {
   "cell_type": "code",
   "execution_count": null,
   "id": "d3561e92",
   "metadata": {},
   "outputs": [
    {
     "name": "stdout",
     "output_type": "stream",
     "text": [
      "Soma dos ímpares: 25\n",
      "Maior valor da coluna 1: 3\n",
      "Diagonal principal: [1, 5, 9]\n"
     ]
    }
   ],
   "source": [
    "# Dada matriz 3x3:\n",
    "matriz = [[1, 2, 3],\n",
    "          [4, 5, 6],\n",
    "          [7, 8, 9]]\n",
    "\n",
    "# a) Soma dos ímpares\n",
    "soma_impares = 0\n",
    "for linha in matriz:\n",
    "    for valor in linha:\n",
    "        if valor % 2 != 0:\n",
    "            soma_impares += valor\n",
    "print(f'Soma dos ímpares: {soma_impares}')\n",
    "\n",
    "# b) Maior valor da coluna 1\n",
    "maior_col1 = min(linha[2] for linha in matriz)  \n",
    "print(f'Maior valor da coluna 1: {maior_col1}')\n",
    "\n",
    "# c) Diagonal principal\n",
    "diagonal = [matriz[i][i] for i in range(len(matriz))]\n",
    "print(f'Diagonal principal: {diagonal}')\n"
   ]
  },
  {
   "cell_type": "code",
   "execution_count": null,
   "id": "1224ed60",
   "metadata": {},
   "outputs": [
    {
     "ename": "ValueError",
     "evalue": "invalid literal for int() with base 10: ''",
     "output_type": "error",
     "traceback": [
      "\u001b[0;31m---------------------------------------------------------------------------\u001b[0m",
      "\u001b[0;31mValueError\u001b[0m                                Traceback (most recent call last)",
      "Cell \u001b[0;32mIn[6], line 8\u001b[0m\n\u001b[1;32m      6\u001b[0m linha \u001b[38;5;241m=\u001b[39m []  \u001b[38;5;66;03m# Nova linha vazia\u001b[39;00m\n\u001b[1;32m      7\u001b[0m \u001b[38;5;28;01mfor\u001b[39;00m j \u001b[38;5;129;01min\u001b[39;00m \u001b[38;5;28mrange\u001b[39m(colunas):\n\u001b[0;32m----> 8\u001b[0m     valor \u001b[38;5;241m=\u001b[39m \u001b[38;5;28mint\u001b[39m(\u001b[38;5;28minput\u001b[39m(\u001b[38;5;124mf\u001b[39m\u001b[38;5;124m\"\u001b[39m\u001b[38;5;124mValor [\u001b[39m\u001b[38;5;132;01m{\u001b[39;00mi\u001b[38;5;132;01m}\u001b[39;00m\u001b[38;5;124m][\u001b[39m\u001b[38;5;132;01m{\u001b[39;00mj\u001b[38;5;132;01m}\u001b[39;00m\u001b[38;5;124m]: \u001b[39m\u001b[38;5;124m\"\u001b[39m))\n\u001b[1;32m      9\u001b[0m     linha\u001b[38;5;241m.\u001b[39mappend(valor)\n\u001b[1;32m     10\u001b[0m matriz\u001b[38;5;241m.\u001b[39mappend(linha)  \u001b[38;5;66;03m# Adiciona linha completa\u001b[39;00m\n",
      "\u001b[0;31mValueError\u001b[0m: invalid literal for int() with base 10: ''"
     ]
    }
   ],
   "source": [
    "linhas = 10\n",
    "colunas = 51\n",
    "\n",
    "matriz = []\n",
    "\n",
    "for i in range(linhas):\n",
    "    linha = []  # Nova linha vazia\n",
    "    for j in range(colunas):\n",
    "        valor = int(input(f\"Valor [{i}][{j}]: \"))\n",
    "        linha.append(valor)\n",
    "    matriz.append(linha)  # Adiciona linha completa\n",
    "\n",
    "print(\"Matriz gerada:\")\n",
    "for linha in matriz:\n",
    "    print(linha)\n"
   ]
  },
  {
   "cell_type": "code",
   "execution_count": null,
   "id": "cc56b7a6",
   "metadata": {},
   "outputs": [
    {
     "name": "stdout",
     "output_type": "stream",
     "text": [
      "10\n",
      "Elemento na linha 0, coluna 0: 10\n",
      "Elemento na linha 0, coluna 1: 20\n",
      "Elemento na linha 0, coluna 2: 30\n",
      "Elemento na linha 1, coluna 0: 40\n",
      "Elemento na linha 1, coluna 1: 50\n",
      "Elemento na linha 1, coluna 2: 60\n"
     ]
    }
   ],
   "source": [
    "# Matriz 2x3 manual\n",
    "matriz = [\n",
    "    [10, 20, 30],  # Linha 0\n",
    "    [40, 50, 60]   # Linha 1\n",
    "];\n",
    "\n",
    "print(matriz[0][0])  # Acessa linha 1, coluna 2 → 60\n",
    "\n",
    "for i in range(2):  # Percorre as linhas\n",
    "    for j in range(3):  # Percorre as colunas\n",
    "        print(f\"Elemento na linha {i}, coluna {j}: {matriz[i][j]}\")\n"
   ]
  }
 ],
 "metadata": {
  "kernelspec": {
   "display_name": "base",
   "language": "python",
   "name": "python3"
  },
  "language_info": {
   "codemirror_mode": {
    "name": "ipython",
    "version": 3
   },
   "file_extension": ".py",
   "mimetype": "text/x-python",
   "name": "python",
   "nbconvert_exporter": "python",
   "pygments_lexer": "ipython3",
   "version": "3.11.7"
  }
 },
 "nbformat": 4,
 "nbformat_minor": 5
}
