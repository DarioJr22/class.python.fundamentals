{
 "cells": [
  {
   "cell_type": "code",
   "execution_count": null,
   "id": "4337f064",
   "metadata": {},
   "outputs": [
    {
     "name": "stdout",
     "output_type": "stream",
     "text": [
      "Transposta: [[1, 3], [2, 4]]\n"
     ]
    }
   ],
   "source": [
    "# Transposição de matriz\n",
    "def transpor(matriz):\n",
    "    return [[linha[j] for linha in matriz]\n",
    "            for j in range(len(matriz[0]))]\n",
    "# Cálculo do traço\n",
    "traco = sum(matriz[i][i] for i in range(min(len(matriz), len(matriz[0]))))\n",
    "\n",
    "\n",
    "\n",
    "print(f\"Transposta: {transpor([[1,2],[3,4]])}\")  # [[1,3],[2,4]]\n",
    "print(f\"Traço: {traco}\")\n"
   ]
  },
  {
   "cell_type": "code",
   "execution_count": null,
   "id": "740f5ae6",
   "metadata": {},
   "outputs": [
    {
     "name": "stdout",
     "output_type": "stream",
     "text": [
      "Totais: [2200, 2260, 2090]\n",
      "Médias: [156.66666666666666, 1043.3333333333333, 983.3333333333334]\n"
     ]
    }
   ],
   "source": [
    "vendas = [\n",
    "    [150, 1150, 900],   # Q1: Norte, Nordeste, Sul\n",
    "    [180, 980, 1100],   # Q2\n",
    "    [140, 1000, 950]    # Q3\n",
    "]\n",
    "\n",
    "# List Comprehension \n",
    "vendas_total = [sum(trimestre) for trimestre in vendas]\n",
    "\n",
    "# Total por trimestre (soma de linhas)\n",
    "totais_trimestre = [sum(trimestre) for trimestre in vendas]\n",
    "\n",
    "# Média por região (soma de colunas)\n",
    "media_regiao = [\n",
    "    sum(trimestre[i] for trimestre in vendas) / len(vendas)\n",
    "    for i in range(len(vendas[0]))\n",
    "]\n",
    "\n",
    "print(f\"Totais: {totais_trimestre}\")\n",
    "print(f\"Médias: {media_regiao}\")\n"
   ]
  },
  {
   "cell_type": "code",
   "execution_count": 9,
   "id": "ee64795f",
   "metadata": {},
   "outputs": [
    {
     "name": "stdout",
     "output_type": "stream",
     "text": [
      "Soma matricial: -120\n",
      "Soma matricial: -270\n",
      "Soma matricial: -450\n",
      "Soma matricial: -540\n",
      "Soma matricial: 420\n",
      "Soma matricial: 270\n",
      "Soma matricial: 210\n",
      "Soma matricial: 120\n",
      "Soma matricial: 0\n"
     ]
    }
   ],
   "source": [
    "# Exemplo: Processamento de Imagem (filtro de bordas)\n",
    "imagem = [[120, 150, 180],\n",
    "          [90, 120, 150],\n",
    "          [60, 90, 120]]\n",
    "\n",
    "filtro = [[-1, -1, -1],\n",
    "          [-1,  8, -1],\n",
    "          [-1, -1, -1]]\n",
    "\n",
    "# Aplica convolução (simplificado)\n",
    "for i in range(1, len(imagem)-1):\n",
    "    for j in range(1, len(imagem[0])-1):\n",
    "        soma = 0\n",
    "        for ki in range(3):\n",
    "            for kj in range(3):\n",
    "                soma += imagem[i+ki-1][j+kj-1] * filtro[ki][kj]\n",
    "                print(f\"Soma matricial: {soma}\")\n",
    "        imagem[i][j] = max(0, min(soma, 255))\n",
    "        \n"
   ]
  }
 ],
 "metadata": {
  "kernelspec": {
   "display_name": "base",
   "language": "python",
   "name": "python3"
  },
  "language_info": {
   "codemirror_mode": {
    "name": "ipython",
    "version": 3
   },
   "file_extension": ".py",
   "mimetype": "text/x-python",
   "name": "python",
   "nbconvert_exporter": "python",
   "pygments_lexer": "ipython3",
   "version": "3.11.7"
  }
 },
 "nbformat": 4,
 "nbformat_minor": 5
}
