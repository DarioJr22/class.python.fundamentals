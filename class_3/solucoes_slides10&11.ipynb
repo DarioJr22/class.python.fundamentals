{
 "cells": [
  {
   "cell_type": "markdown",
   "id": "61b4ebbc",
   "metadata": {},
   "source": [
    "# 📘 Fundamentos de Programação - Matrizes\n",
    "## ✅ Resolução dos exercícios das aulas 10 e 11"
   ]
  },
  {
   "cell_type": "code",
   "execution_count": 2,
   "id": "7a6e500a",
   "metadata": {},
   "outputs": [
    {
     "name": "stdout",
     "output_type": "stream",
     "text": [
      "\n",
      "Matriz Digitada:\n",
      "[21, 33, 41]\n",
      "[23, 45, 44]\n",
      "[12, 12, 12]\n",
      "\n",
      "A soma de todos os valores ímpares é: 163\n",
      "A soma dos valores da primeira coluna é: 56\n",
      "O menor valor da terceira linha é: 12\n"
     ]
    }
   ],
   "source": [
    "# Criação da matriz 3x3 com entrada do usuário\n",
    "matriz = []\n",
    "\n",
    "for i in range(3):\n",
    "    linha = []\n",
    "    for j in range(3):\n",
    "        valor = int(input(f'Digite um valor para [{i}][{j}]: '))\n",
    "        linha.append(valor)\n",
    "    matriz.append(linha)\n",
    "\n",
    "# Exibir a matriz\n",
    "print(\"\\nMatriz Digitada:\")\n",
    "for linha in matriz:\n",
    "    print(linha)\n",
    "\n",
    "# A) Soma de todos os valores ímpares\n",
    "soma_impares = sum(valor for linha in matriz for valor in linha if valor % 2 != 0)\n",
    "print(f\"\\nA soma de todos os valores ímpares é: {soma_impares}\")\n",
    "\n",
    "# B) Soma dos valores da primeira coluna\n",
    "soma_primeira_coluna = sum(matriz[i][0] for i in range(3))\n",
    "print(f\"A soma dos valores da primeira coluna é: {soma_primeira_coluna}\")\n",
    "\n",
    "# C) Menor valor da terceira linha\n",
    "menor_terceira_linha = min(matriz[2])\n",
    "print(f\"O menor valor da terceira linha é: {menor_terceira_linha}\")\n"
   ]
  },
  {
   "cell_type": "markdown",
   "id": "5886501c",
   "metadata": {},
   "source": [
    "# 🔢 Exercício 2 - Operações com matriz 3x3 para ajudar Aline\n"
   ]
  },
  {
   "cell_type": "code",
   "execution_count": 2,
   "id": "1105d8c4",
   "metadata": {},
   "outputs": [
    {
     "name": "stdout",
     "output_type": "stream",
     "text": [
      "\n",
      "Matriz Digitada:\n",
      "[2, 2, 2]\n",
      "[2, 2, 2]\n",
      "[2, 2, 2]\n",
      "\n",
      "Produto dos elementos da diagonal principal: 8\n",
      "Média de todos os elementos: 2.0\n",
      "Maior valor da segunda coluna: 2\n",
      "Valores menores ou iguais à média:\n",
      "2 2 2 2 2 2 2 2 2 "
     ]
    }
   ],
   "source": [
    "# Entrada da matriz 3x3\n",
    "matriz = []\n",
    "\n",
    "for i in range(3):\n",
    "    linha = []\n",
    "    for j in range(3):\n",
    "        valor = int(input(f'Digite um valor para [{i}][{j}]: '))\n",
    "        linha.append(valor)\n",
    "    matriz.append(linha)\n",
    "\n",
    "# Exibir a matriz\n",
    "print(\"\\nMatriz Digitada:\")\n",
    "for linha in matriz:\n",
    "    print(linha)\n",
    "\n",
    "# 1) Produto dos elementos da diagonal principal\n",
    "produto_diagonal = 1\n",
    "for i in range(3):\n",
    "    produto_diagonal *= matriz[i][i]\n",
    "print(f\"\\nProduto dos elementos da diagonal principal: {produto_diagonal}\")\n",
    "\n",
    "# 2) Média de todos os elementos da matriz\n",
    "total_elementos = sum(sum(linha) for linha in matriz)\n",
    "media = total_elementos / 9\n",
    "print(f\"Média de todos os elementos: {media}\")\n",
    "\n",
    "# 3) Maior valor da segunda coluna\n",
    "maior_segunda_coluna = max(matriz[i][1] for i in range(3))\n",
    "print(f\"Maior valor da segunda coluna: {maior_segunda_coluna}\")\n",
    "\n",
    "# 4) Valores menores ou iguais à média\n",
    "print(\"Valores menores ou iguais à média:\")\n",
    "for linha in matriz:\n",
    "    for valor in linha:\n",
    "        if valor <= media:\n",
    "            print(valor, end=' ')\n"
   ]
  },
  {
   "cell_type": "markdown",
   "id": "b331d707",
   "metadata": {},
   "source": [
    "#  Exercício 3 - Vendas de Refrigerantes (Matriz 4x5)"
   ]
  },
  {
   "cell_type": "code",
   "execution_count": 3,
   "id": "eeb92c20",
   "metadata": {},
   "outputs": [
    {
     "name": "stdout",
     "output_type": "stream",
     "text": [
      "\n",
      "Matriz de vendas:\n",
      "[150, 1150, 900, 1500, 400]\n",
      "[180, 980, 1100, 2300, 650]\n",
      "[140, 1000, 950, 2100, 500]\n",
      "[210, 1600, 1400, 2600, 840]\n",
      "\n",
      "Quantidade total vendida no país: 20650\n"
     ]
    }
   ],
   "source": [
    "# Dados fixos conforme o exemplo do slide\n",
    "matriz_vendas = [\n",
    "    [150, 1150, 900, 1500, 400],\n",
    "    [180, 980, 1100, 2300, 650],\n",
    "    [140, 1000, 950, 2100, 500],\n",
    "    [210, 1600, 1400, 2600, 840]\n",
    "]\n",
    "\n",
    "# Exibir a matriz de vendas\n",
    "print(\"\\nMatriz de vendas:\")\n",
    "for linha in matriz_vendas:\n",
    "    print(linha)\n",
    "\n",
    "# Calcular a quantidade total vendida no país\n",
    "total_vendido = sum(sum(linha) for linha in matriz_vendas)\n",
    "\n",
    "print(f\"\\nQuantidade total vendida no país: {total_vendido}\")\n"
   ]
  }
 ],
 "metadata": {
  "kernelspec": {
   "display_name": "base",
   "language": "python",
   "name": "python3"
  },
  "language_info": {
   "codemirror_mode": {
    "name": "ipython",
    "version": 3
   },
   "file_extension": ".py",
   "mimetype": "text/x-python",
   "name": "python",
   "nbconvert_exporter": "python",
   "pygments_lexer": "ipython3",
   "version": "3.11.7"
  }
 },
 "nbformat": 4,
 "nbformat_minor": 5
}
