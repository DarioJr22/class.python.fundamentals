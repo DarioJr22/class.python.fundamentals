{
 "cells": [
  {
   "cell_type": "code",
   "execution_count": 18,
   "id": "412992a6",
   "metadata": {},
   "outputs": [
    {
     "name": "stdout",
     "output_type": "stream",
     "text": [
      "Contato Dário excluído com sucesso.\n",
      "Contato não encontrado.\n",
      "False\n",
      "True\n",
      "True\n",
      "dict_items([('Igor', [123456789, 987654321]), ('João', [111222333, 444555666])])\n"
     ]
    }
   ],
   "source": [
    "agenda = {\n",
    "    'Dário': {\n",
    "        'idade':53,\n",
    "        'telefone': [123456789, 987654321],\n",
    "        'email': 'eugostodeanimes@gmail.com',\n",
    "        'comida_favorita': 'Pizza'\n",
    "    },\n",
    "    'Igor': [123456789,987654321],\n",
    "    'João': [111222333,444555666],\n",
    "}\n",
    "\n",
    "\n",
    "def procurar_agenda_contato(nome):\n",
    "    return agenda.get(nome,\"Contato não encontrado.\")\n",
    "\n",
    "\n",
    "def excluir_agenda_contato(nome):\n",
    "    if nome in agenda:\n",
    "        del agenda[nome]\n",
    "        return f\"Contato {nome} excluído com sucesso.\"\n",
    "    else:\n",
    "        return \"Contato não encontrado.\"\n",
    "\n",
    "\n",
    "\n",
    "print(excluir_agenda_contato('Dário'))\n",
    "print(procurar_agenda_contato('Dário'))\n",
    "print('Dário' in agenda)\n",
    "print('Igor' in agenda)\n",
    "print(111222333 in agenda['João'])\n",
    "print(agenda.items())\n",
    "\n",
    " \n"
   ]
  },
  {
   "cell_type": "code",
   "execution_count": null,
   "id": "0c192761",
   "metadata": {},
   "outputs": [
    {
     "ename": "ValueError",
     "evalue": "invalid literal for int() with base 10: ''",
     "output_type": "error",
     "traceback": [
      "\u001b[0;31m---------------------------------------------------------------------------\u001b[0m",
      "\u001b[0;31mValueError\u001b[0m                                Traceback (most recent call last)",
      "Cell \u001b[0;32mIn[6], line 3\u001b[0m\n\u001b[1;32m      1\u001b[0m \u001b[38;5;28;01mfor\u001b[39;00m contao \u001b[38;5;129;01min\u001b[39;00m \u001b[38;5;28mrange\u001b[39m(\u001b[38;5;241m4\u001b[39m):\n\u001b[1;32m      2\u001b[0m     nome \u001b[38;5;241m=\u001b[39m \u001b[38;5;28minput\u001b[39m(\u001b[38;5;124m\"\u001b[39m\u001b[38;5;124mDigite o nome do contato: \u001b[39m\u001b[38;5;124m\"\u001b[39m)\n\u001b[0;32m----> 3\u001b[0m     telefone \u001b[38;5;241m=\u001b[39m \u001b[38;5;28mint\u001b[39m(\u001b[38;5;28minput\u001b[39m(\u001b[38;5;124m\"\u001b[39m\u001b[38;5;124mDigite o telefone do contato: \u001b[39m\u001b[38;5;124m\"\u001b[39m))\n\u001b[1;32m      4\u001b[0m     agenda[nome] \u001b[38;5;241m=\u001b[39m [telefone]\n\u001b[1;32m      6\u001b[0m \u001b[38;5;28mprint\u001b[39m(\u001b[38;5;124m\"\u001b[39m\u001b[38;5;124magenda:\u001b[39m\u001b[38;5;124m\"\u001b[39m, agenda)\n",
      "\u001b[0;31mValueError\u001b[0m: invalid literal for int() with base 10: ''"
     ]
    }
   ],
   "source": [
    "for contao in range(4):\n",
    "    nome = input(\"Digite o nome do contato: \")\n",
    "    telefone = int(input(\"Digite o telefone do contato: \"))\n",
    "    agenda[nome] = [telefone]\n",
    "\n",
    "#Dict() >>> Substantivo\n",
    "#get() >>> Verbo\n",
    "\n",
    "print(\"agenda:\", agenda)"
   ]
  },
  {
   "cell_type": "code",
   "execution_count": null,
   "id": "f97faa70",
   "metadata": {},
   "outputs": [],
   "source": []
  }
 ],
 "metadata": {
  "kernelspec": {
   "display_name": "base",
   "language": "python",
   "name": "python3"
  },
  "language_info": {
   "codemirror_mode": {
    "name": "ipython",
    "version": 3
   },
   "file_extension": ".py",
   "mimetype": "text/x-python",
   "name": "python",
   "nbconvert_exporter": "python",
   "pygments_lexer": "ipython3",
   "version": "3.11.7"
  }
 },
 "nbformat": 4,
 "nbformat_minor": 5
}
