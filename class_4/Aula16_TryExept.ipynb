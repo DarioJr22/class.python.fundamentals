{
 "cells": [
  {
   "cell_type": "code",
   "execution_count": 1,
   "id": "8174b274",
   "metadata": {},
   "outputs": [
    {
     "name": "stdout",
     "output_type": "stream",
     "text": [
      "Por favor, insira um número válido.\n"
     ]
    }
   ],
   "source": [
    "try:\n",
    "    idade = int(input(\"Digite sua idade: \"))\n",
    "except ValueError:\n",
    "    print(\"Por favor, insira um número válido.\")"
   ]
  },
  {
   "cell_type": "code",
   "execution_count": null,
   "id": "4249af67",
   "metadata": {},
   "outputs": [
    {
     "name": "stdout",
     "output_type": "stream",
     "text": [
      "Erro: invalid literal for int() with base 10: 'asdasdasd'\n",
      "Fim do processamento da idade.\n"
     ]
    }
   ],
   "source": [
    "try: \n",
    "    idade = int(input(\"Digite sua idade: \"))\n",
    "    if idade < 0:\n",
    "        raise ValueError(\"Idade não pode ser negativa.\")\n",
    "    elif idade < 18:\n",
    "        print(\"Você é menor de idade.\")\n",
    "    elif idade < 65:\n",
    "        print(\"Você é maior de idade.\")\n",
    "    else:\n",
    "        print(\"Você é idoso.\")\n",
    "except ValueError as e:\n",
    "    print(f\"Erro: {e}\")\n",
    "else:\n",
    "    print(\"Idade processada com sucesso.\")\n",
    "finally:\n",
    "    print(\"Fim do processamento da idade.\")"
   ]
  },
  {
   "cell_type": "code",
   "execution_count": null,
   "id": "d67e1027",
   "metadata": {},
   "outputs": [],
   "source": []
  }
 ],
 "metadata": {
  "kernelspec": {
   "display_name": "base",
   "language": "python",
   "name": "python3"
  },
  "language_info": {
   "codemirror_mode": {
    "name": "ipython",
    "version": 3
   },
   "file_extension": ".py",
   "mimetype": "text/x-python",
   "name": "python",
   "nbconvert_exporter": "python",
   "pygments_lexer": "ipython3",
   "version": "3.11.7"
  }
 },
 "nbformat": 4,
 "nbformat_minor": 5
}
