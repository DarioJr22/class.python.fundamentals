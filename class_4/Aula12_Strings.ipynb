{
 "cells": [
  {
   "cell_type": "markdown",
   "id": "766c6365",
   "metadata": {},
   "source": [
    "# 📘 Aula 12 - Strings em Python\n",
    "---\n",
    "## 🎯 Objetivo: Manipular e trabalhar com Strings no Python."
   ]
  },
  {
   "cell_type": "markdown",
   "id": "a1404a50",
   "metadata": {},
   "source": [
    "## 📖 Introdução às Strings"
   ]
  },
  {
   "cell_type": "code",
   "execution_count": 3,
   "id": "4c24fb95",
   "metadata": {},
   "outputs": [
    {
     "name": "stdout",
     "output_type": "stream",
     "text": [
      "Primeira letra: S\n",
      "Última letra: !\n",
      "Letra 0: S\n",
      "Letra 1: !\n",
      "Letra 2: a\n",
      "Letra 3: d\n",
      "Letra 4: n\n",
      "Letra 5: u\n",
      "Letra 6: g\n",
      "Letra 7: e\n",
      "Letra 8: s\n",
      "Letra 9:  \n",
      "Letra 10: é\n",
      "Letra 11:  \n",
      "Letra 12: e\n",
      "Letra 13: j\n",
      "Letra 14: o\n",
      "Letra 15: H\n",
      "Letra 16:  \n",
      "Letra 17: !\n",
      "Letra 18: a\n",
      "Letra 19: i\n",
      "Letra 20: r\n",
      "Letra 21: r\n",
      "Letra 22: o\n",
      "Tamanho da frase: 23\n",
      "Frase em maiúsculas: SORRIA! HOJE É SEGUNDA!\n",
      "Frase em minúsculas: sorria! hoje é segunda!\n",
      "Frase com 'a' substituída por 'e': Sorrie! Hoje é segunde!\n",
      "Frase sem espaços: Sorria!Hojeésegunda!\n"
     ]
    }
   ],
   "source": [
    "frase = \"Sorria! Hoje é segunda!\"\n",
    "print(\"Primeira letra:\", frase[0])\n",
    "print(\"Última letra:\", frase[-1])\n",
    "\n",
    "for i in range(len(frase)):\n",
    "    print(f\"Letra {i}:\", frase[-i])\n",
    "print(\"Tamanho da frase:\", len(frase))\n",
    "print(\"Frase em maiúsculas:\", frase.upper())\n",
    "print(\"Frase em minúsculas:\", frase.lower())\n",
    "print(\"Frase com 'a' substituída por 'e':\", frase.replace(\"a\", \"e\"))\n",
    "print(\"Frase sem espaços:\", frase.replace(\" \", \"\"))"
   ]
  },
  {
   "cell_type": "markdown",
   "id": "9295f617",
   "metadata": {},
   "source": [
    "## 📖 Índices e Fatiamento"
   ]
  },
  {
   "cell_type": "code",
   "execution_count": 10,
   "id": "bb8655f9",
   "metadata": {},
   "outputs": [
    {
     "name": "stdout",
     "output_type": "stream",
     "text": [
      "Sorria\n",
      " Hoj\n",
      "sgna\n",
      "! Hoje é segunda!\n"
     ]
    }
   ],
   "source": [
    "print(frase[0:6])\n",
    "print(frase[7:11])\n",
    "print(frase[15:22:2])\n",
    "print(frase[6:])\n"
   ]
  },
  {
   "cell_type": "markdown",
   "id": "9e2155b1",
   "metadata": {},
   "source": [
    "## 📖 Transformações e Métodos"
   ]
  },
  {
   "cell_type": "code",
   "execution_count": 17,
   "id": "e224efdb",
   "metadata": {},
   "outputs": [
    {
     "name": "stdout",
     "output_type": "stream",
     "text": [
      "   OLÁ MUNDO   \n",
      "   olá mundo   \n",
      "olá mundo\n",
      "   olá Python   \n",
      "9\n",
      "True\n",
      "['Igor', 'silva', 'junior', 'pão']\n",
      "Igor <-> silva <-> junior <-> pão\n"
     ]
    }
   ],
   "source": [
    "texto = \"   olá mundo   \"\n",
    "print(texto.upper())\n",
    "print(texto.lower())\n",
    "print(texto.strip())\n",
    "print(texto.replace(\"mundo\", \"Python\"))\n",
    "\n",
    "len(texto.strip())\n",
    "print(len(texto.strip()))\n",
    "\n",
    "texto_2 = \"Igor silva junior pão\"\n",
    "\n",
    "print(\"Igor\" in texto_2)\n",
    "\n",
    "lista_texto_2 = texto_2.split(\" \")\n",
    "    \n",
    "print(lista_texto_2)\n",
    "print(\" <-> \".join(lista_texto_2))\n"
   ]
  },
  {
   "cell_type": "markdown",
   "id": "cdeb7230",
   "metadata": {},
   "source": [
    "## 🎯 Substituição de Palavras"
   ]
  },
  {
   "cell_type": "code",
   "execution_count": null,
   "id": "817ca5c1",
   "metadata": {},
   "outputs": [],
   "source": [
    "frase = input(\"Digite uma frase: \").strip()\n",
    "palavra_original = input(\"Palavra da frase para substituir: \").strip()\n",
    "palavra_substituta = input(\"Nova palavra: \").strip()\n",
    "\n",
    "if palavra_original in frase:\n",
    "    frase_modificada = frase.replace(palavra_original, palavra_substituta)\n",
    "    print(\"Frase modificada:\", frase_modificada.upper())\n",
    "else:\n",
    "    print(\"A palavra não está na frase.\")"
   ]
  },
  {
   "cell_type": "markdown",
   "id": "29298cc9",
   "metadata": {},
   "source": [
    "## 🎯 Nome em Formato de Escada"
   ]
  },
  {
   "cell_type": "code",
   "execution_count": null,
   "id": "3c6cc136",
   "metadata": {},
   "outputs": [],
   "source": [
    "nome = input(\"Digite seu nome: \").upper()\n",
    "for i in range(1, len(nome) + 1):\n",
    "    print(nome[:i])"
   ]
  },
  {
   "cell_type": "markdown",
   "id": "d72b68e6",
   "metadata": {},
   "source": [
    "## 🎯 Verificar Palíndromo"
   ]
  },
  {
   "cell_type": "code",
   "execution_count": null,
   "id": "dbe9fc91",
   "metadata": {},
   "outputs": [],
   "source": [
    "frase = input(\"Digite uma frase: \").replace(\" \", \"\").lower()\n",
    "if frase == frase[::-1]:\n",
    "    print(\"É um palíndromo!\")\n",
    "else:\n",
    "    print(\"Não é um palíndromo.\")"
   ]
  },
  {
   "cell_type": "markdown",
   "id": "cc59db01",
   "metadata": {},
   "source": [
    "## 🎯 Contagem de Espaços e Vogais"
   ]
  },
  {
   "cell_type": "code",
   "execution_count": null,
   "id": "78e70a21",
   "metadata": {},
   "outputs": [],
   "source": [
    "frase = input(\"Digite uma frase: \").lower()\n",
    "\n",
    "espacos = frase.count(\" \")\n",
    "vogais = sum(frase.count(v) for v in \"aeiou\")\n",
    "\n",
    "print(f\"Espaços: {espacos}\")\n",
    "print(f\"Vogais: {vogais}\")"
   ]
  }
 ],
 "metadata": {
  "kernelspec": {
   "display_name": "base",
   "language": "python",
   "name": "python3"
  },
  "language_info": {
   "codemirror_mode": {
    "name": "ipython",
    "version": 3
   },
   "file_extension": ".py",
   "mimetype": "text/x-python",
   "name": "python",
   "nbconvert_exporter": "python",
   "pygments_lexer": "ipython3",
   "version": "3.11.7"
  }
 },
 "nbformat": 4,
 "nbformat_minor": 5
}
