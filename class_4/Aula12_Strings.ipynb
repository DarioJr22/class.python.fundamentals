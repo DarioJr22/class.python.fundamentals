{
 "cells": [
  {
   "cell_type": "markdown",
   "id": "766c6365",
   "metadata": {},
   "source": [
    "# 📘 Aula 12 - Strings em Python\n",
    "---\n",
    "## 🎯 Objetivo: Manipular e trabalhar com Strings no Python."
   ]
  },
  {
   "cell_type": "markdown",
   "id": "a1404a50",
   "metadata": {},
   "source": [
    "## 📖 Introdução às Strings"
   ]
  },
  {
   "cell_type": "code",
   "execution_count": null,
   "id": "4c24fb95",
   "metadata": {},
   "outputs": [],
   "source": [
    "frase = \"Sorria! Hoje é segunda!\"\n",
    "print(\"Primeira letra:\", frase[0])\n",
    "print(\"Última letra:\", frase[-1])"
   ]
  },
  {
   "cell_type": "markdown",
   "id": "9295f617",
   "metadata": {},
   "source": [
    "## 📖 Índices e Fatiamento"
   ]
  },
  {
   "cell_type": "code",
   "execution_count": null,
   "id": "bb8655f9",
   "metadata": {},
   "outputs": [],
   "source": [
    "print(frase[0:6])\n",
    "print(frase[7:11])\n",
    "print(frase[::-1])"
   ]
  },
  {
   "cell_type": "markdown",
   "id": "9e2155b1",
   "metadata": {},
   "source": [
    "## 📖 Transformações e Métodos"
   ]
  },
  {
   "cell_type": "code",
   "execution_count": null,
   "id": "e224efdb",
   "metadata": {},
   "outputs": [],
   "source": [
    "texto = \"   olá mundo   \"\n",
    "print(texto.upper())\n",
    "print(texto.lower())\n",
    "print(texto.strip())\n",
    "print(texto.replace(\"mundo\", \"Python\"))"
   ]
  },
  {
   "cell_type": "markdown",
   "id": "cdeb7230",
   "metadata": {},
   "source": [
    "## 🎯 Substituição de Palavras"
   ]
  },
  {
   "cell_type": "code",
   "execution_count": null,
   "id": "817ca5c1",
   "metadata": {},
   "outputs": [],
   "source": [
    "frase = input(\"Digite uma frase: \").strip()\n",
    "palavra_original = input(\"Palavra da frase para substituir: \").strip()\n",
    "palavra_substituta = input(\"Nova palavra: \").strip()\n",
    "\n",
    "if palavra_original in frase:\n",
    "    frase_modificada = frase.replace(palavra_original, palavra_substituta)\n",
    "    print(\"Frase modificada:\", frase_modificada.upper())\n",
    "else:\n",
    "    print(\"A palavra não está na frase.\")"
   ]
  },
  {
   "cell_type": "markdown",
   "id": "29298cc9",
   "metadata": {},
   "source": [
    "## 🎯 Nome em Formato de Escada"
   ]
  },
  {
   "cell_type": "code",
   "execution_count": null,
   "id": "3c6cc136",
   "metadata": {},
   "outputs": [],
   "source": [
    "nome = input(\"Digite seu nome: \").upper()\n",
    "for i in range(1, len(nome) + 1):\n",
    "    print(nome[:i])"
   ]
  },
  {
   "cell_type": "markdown",
   "id": "d72b68e6",
   "metadata": {},
   "source": [
    "## 🎯 Verificar Palíndromo"
   ]
  },
  {
   "cell_type": "code",
   "execution_count": null,
   "id": "dbe9fc91",
   "metadata": {},
   "outputs": [],
   "source": [
    "frase = input(\"Digite uma frase: \").replace(\" \", \"\").lower()\n",
    "if frase == frase[::-1]:\n",
    "    print(\"É um palíndromo!\")\n",
    "else:\n",
    "    print(\"Não é um palíndromo.\")"
   ]
  },
  {
   "cell_type": "markdown",
   "id": "cc59db01",
   "metadata": {},
   "source": [
    "## 🎯 Contagem de Espaços e Vogais"
   ]
  },
  {
   "cell_type": "code",
   "execution_count": null,
   "id": "78e70a21",
   "metadata": {},
   "outputs": [],
   "source": [
    "frase = input(\"Digite uma frase: \").lower()\n",
    "\n",
    "espacos = frase.count(\" \")\n",
    "vogais = sum(frase.count(v) for v in \"aeiou\")\n",
    "\n",
    "print(f\"Espaços: {espacos}\")\n",
    "print(f\"Vogais: {vogais}\")"
   ]
  }
 ],
 "metadata": {},
 "nbformat": 4,
 "nbformat_minor": 5
}
