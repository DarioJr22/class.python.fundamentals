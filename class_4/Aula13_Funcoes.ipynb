{
 "cells": [
  {
   "cell_type": "markdown",
   "id": "a83b7c09",
   "metadata": {},
   "source": [
    "# 📘 Aula 13 - Funções em Python\n",
    "---\n",
    "## 🎯 Objetivo: Aprender a criar e utilizar funções no Python."
   ]
  },
  {
   "cell_type": "markdown",
   "id": "dac932ec",
   "metadata": {},
   "source": [
    "## 📖 Introdução às Funções"
   ]
  },
  {
   "cell_type": "code",
   "execution_count": null,
   "id": "b15adb61",
   "metadata": {},
   "outputs": [],
   "source": [
    "def saudacao():\n",
    "    print(\"Olá! Seja bem-vindo.\")\n",
    "\n",
    "saudacao()"
   ]
  },
  {
   "cell_type": "markdown",
   "id": "5a0aa2ee",
   "metadata": {},
   "source": [
    "## 📖 Função com Parâmetros e Retorno"
   ]
  },
  {
   "cell_type": "code",
   "execution_count": null,
   "id": "6b81b2f5",
   "metadata": {},
   "outputs": [],
   "source": [
    "def soma(a, b):\n",
    "    return a + b\n",
    "\n",
    "resultado = soma(10, 20)\n",
    "print(\"Soma:\", resultado)"
   ]
  },
  {
   "cell_type": "markdown",
   "id": "3195a4fe",
   "metadata": {},
   "source": [
    "## 📖 Variáveis Locais e Globais"
   ]
  },
  {
   "cell_type": "code",
   "execution_count": null,
   "id": "44ae3745",
   "metadata": {},
   "outputs": [],
   "source": [
    "nome = \"Dário\"\n",
    "\n",
    "def saudacao():\n",
    "    nome = \"Carlos\"\n",
    "    print(\"Olá\", nome)\n",
    "\n",
    "saudacao()\n",
    "print(\"Fora da função:\", nome)"
   ]
  },
  {
   "cell_type": "markdown",
   "id": "61514391",
   "metadata": {},
   "source": [
    "## 🎯 Calculadora Completa com Funções"
   ]
  },
  {
   "cell_type": "code",
   "execution_count": null,
   "id": "164d9e9f",
   "metadata": {},
   "outputs": [],
   "source": [
    "def soma(a, b): return a + b\n",
    "def subtracao(a, b): return a - b\n",
    "def multiplicacao(a, b): return a * b\n",
    "def divisao(a, b): return max(a, b) / min(a, b)\n",
    "\n",
    "while True:\n",
    "    print(\"\\n1-Soma 2-Subtração 3-Multiplicação 4-Divisão 5-Sair\")\n",
    "    opcao = input(\"Escolha: \")\n",
    "\n",
    "    if opcao == \"5\":\n",
    "        print(\"Encerrando...\")\n",
    "        break\n",
    "\n",
    "    n1 = float(input(\"Digite o primeiro número: \"))\n",
    "    n2 = float(input(\"Digite o segundo número: \"))\n",
    "\n",
    "    if opcao == \"1\": print(\"Resultado:\", soma(n1, n2))\n",
    "    elif opcao == \"2\": print(\"Resultado:\", subtracao(n1, n2))\n",
    "    elif opcao == \"3\": print(\"Resultado:\", multiplicacao(n1, n2))\n",
    "    elif opcao == \"4\": print(\"Resultado:\", divisao(n1, n2))\n",
    "    else: print(\"Opção inválida.\")"
   ]
  },
  {
   "cell_type": "markdown",
   "id": "fc11d02a",
   "metadata": {},
   "source": [
    "## 🎯 Desafio da Academia - Perda de Peso"
   ]
  },
  {
   "cell_type": "code",
   "execution_count": null,
   "id": "8e70b62f",
   "metadata": {},
   "outputs": [],
   "source": [
    "def calcular_percentual_perda(peso_inicial, peso_atual):\n",
    "    perda = peso_inicial - peso_atual\n",
    "    percentual = (perda / peso_inicial) * 100\n",
    "    return percentual\n",
    "\n",
    "peso_inicial = float(input(\"Peso inicial (kg): \"))\n",
    "peso_atual = float(input(\"Peso atual (kg): \"))\n",
    "\n",
    "print(f\"Perda de peso: {calcular_percentual_perda(peso_inicial, peso_atual):.2f}%\")"
   ]
  },
  {
   "cell_type": "markdown",
   "id": "af7d1894",
   "metadata": {},
   "source": [
    "## 🎯 Idade e Maioridade"
   ]
  },
  {
   "cell_type": "code",
   "execution_count": null,
   "id": "85b8e928",
   "metadata": {},
   "outputs": [],
   "source": [
    "def idade(ano_atual, ano_nascimento):\n",
    "    return ano_atual - ano_nascimento\n",
    "\n",
    "def maioridade(nome, idade):\n",
    "    if idade >= 18:\n",
    "        print(f\"{nome} é MAIOR de idade.\")\n",
    "    else:\n",
    "        print(f\"{nome} é MENOR de idade.\")\n",
    "\n",
    "nome = input(\"Nome: \")\n",
    "ano_atual = int(input(\"Ano atual: \"))\n",
    "ano_nasc = int(input(\"Ano de nascimento: \"))\n",
    "\n",
    "idade_pessoa = idade(ano_atual, ano_nasc)\n",
    "maioridade(nome, idade_pessoa)"
   ]
  },
  {
   "cell_type": "markdown",
   "id": "614a945e",
   "metadata": {},
   "source": [
    "## 🎯 Contagem de Palavras"
   ]
  },
  {
   "cell_type": "code",
   "execution_count": null,
   "id": "211e041e",
   "metadata": {},
   "outputs": [],
   "source": [
    "def contar_palavras(frase):\n",
    "    return len(frase.split())\n",
    "\n",
    "frase = input(\"Digite uma frase: \")\n",
    "print(f\"Número de palavras: {contar_palavras(frase)}\")"
   ]
  }
 ],
 "metadata": {},
 "nbformat": 4,
 "nbformat_minor": 5
}
