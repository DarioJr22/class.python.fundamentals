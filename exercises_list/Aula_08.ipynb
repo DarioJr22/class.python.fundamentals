{
 "cells": [
  {
   "cell_type": "markdown",
   "id": "f24538cd",
   "metadata": {},
   "source": [
    "# Aula 08 - Estruturas de Repetição\n"
   ]
  },
  {
   "cell_type": "markdown",
   "id": "da990d20",
   "metadata": {},
   "source": [
    "## Exercício 1\n",
    "Crie um programa que solicite o código de serviço de 5 atendimentos (1-Banho, 2-Tosa, 3-Banho e Tosa, 4-Outros) e exiba a quantidade de cada serviço.\n",
    "\n",
    "💡 *Dica:* Use um contador para cada tipo de serviço.\n"
   ]
  },
  {
   "cell_type": "code",
   "execution_count": null,
   "id": "e1480009",
   "metadata": {
    "vscode": {
     "languageId": "plaintext"
    }
   },
   "outputs": [],
   "source": []
  },
  {
   "cell_type": "markdown",
   "id": "4be8d0a1",
   "metadata": {},
   "source": [
    "## Exercício 2\n",
    "Peça um número inteiro ao usuário e informe se ele é um número perfeito.\n",
    "\n",
    "💡 *Dica:* Um número é perfeito quando a soma dos seus divisores (exceto ele mesmo) é igual ao próprio número.\n"
   ]
  },
  {
   "cell_type": "markdown",
   "id": "ad19ee94",
   "metadata": {},
   "source": [
    "## Exercício 3\n",
    "Faça um programa que calcule as raízes de uma equação do segundo grau. Pergunte quantas equações deseja calcular e solicite os valores de a, b e c.\n",
    "\n",
    "💡 *Dicas:* Use a fórmula de Bhaskara e 'math.sqrt()' para a raiz quadrada.\n"
   ]
  },
  {
   "cell_type": "markdown",
   "id": "79bae4be",
   "metadata": {},
   "source": [
    "## Exercício 4\n",
    "Monte a tabuada (tabela de multiplicação) de 1 a 10 usando laços aninhados.\n"
   ]
  },
  {
   "cell_type": "markdown",
   "id": "f62a354c",
   "metadata": {},
   "source": [
    "## Exercício 5\n",
    "Leia o ano de nascimento de 5 pessoas e informe quantas são maiores de idade.\n",
    "\n",
    "💡 *Dica:* Utilize 'from datetime import date' para obter o ano atual.\n"
   ]
  }
 ],
 "metadata": {
  "language_info": {
   "name": "python"
  }
 },
 "nbformat": 4,
 "nbformat_minor": 5
}
