{
 "cells": [
  {
   "cell_type": "markdown",
   "id": "18512f31",
   "metadata": {},
   "source": [
    "# Aula 14 - Funções e Dicionários\n"
   ]
  },
  {
   "cell_type": "markdown",
   "id": "88aa1ada",
   "metadata": {},
   "source": [
    "## Exercício 1\n",
    "Crie uma função que receba uma lista de números e dois valores (limite inferior e superior). Retorne os números dentro do intervalo.\n",
    "💡 *Use list comprehension.*\n"
   ]
  },
  {
   "cell_type": "code",
   "execution_count": 1,
   "id": "b0100ac0",
   "metadata": {},
   "outputs": [
    {
     "name": "stdout",
     "output_type": "stream",
     "text": [
      "[3, 4, 5, 6, 7]\n"
     ]
    }
   ],
   "source": [
    "def intervalo(lista, lim_inf,lim_sup):\n",
    "    return [valor for valor in lista if lim_inf <= valor <= lim_sup]\n",
    "\n",
    "intervalor = [1, 2, 3, 4, 5, 6, 7, 8, 9, 10]\n",
    "limite_inferior = 3\n",
    "limite_superior = 7\n",
    "resultado = intervalo(intervalor, limite_inferior, limite_superior)\n",
    "print(resultado)  "
   ]
  },
  {
   "cell_type": "markdown",
   "id": "23a19475",
   "metadata": {},
   "source": [
    "## Exercício 2\n",
    "Mostre os números de 0 até N e seus quadrados como dicionário.\n",
    "💡 *Use range e dict comprehension.*\n"
   ]
  },
  {
   "cell_type": "code",
   "execution_count": 2,
   "id": "b73fd751",
   "metadata": {},
   "outputs": [
    {
     "name": "stdout",
     "output_type": "stream",
     "text": [
      "{0: 0, 1: 1, 2: 4, 3: 9, 4: 16, 5: 25}\n"
     ]
    }
   ],
   "source": [
    "n = 5\n",
    "d = {i: i**2 for i in range(n+1)}\n",
    "print(d)"
   ]
  },
  {
   "cell_type": "markdown",
   "id": "28b77450",
   "metadata": {},
   "source": [
    "## Exercício 3\n",
    "Gerencie um cardápio usando dicionários. O gerente pode adicionar, modificar ou remover produtos.\n",
    "💡 *Use `.get()` para verificar se o item existe.*\n"
   ]
  }
 ],
 "metadata": {
  "kernelspec": {
   "display_name": "base",
   "language": "python",
   "name": "python3"
  },
  "language_info": {
   "codemirror_mode": {
    "name": "ipython",
    "version": 3
   },
   "file_extension": ".py",
   "mimetype": "text/x-python",
   "name": "python",
   "nbconvert_exporter": "python",
   "pygments_lexer": "ipython3",
   "version": "3.11.7"
  }
 },
 "nbformat": 4,
 "nbformat_minor": 5
}
