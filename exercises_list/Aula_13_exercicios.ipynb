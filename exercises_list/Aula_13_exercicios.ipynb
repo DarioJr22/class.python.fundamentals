{
 "cells": [
  {
   "cell_type": "markdown",
   "id": "e80a18fc",
   "metadata": {},
   "source": [
    "# Aula 13 - Funções e Dicionários\n"
   ]
  },
  {
   "cell_type": "markdown",
   "id": "431a8ebe",
   "metadata": {},
   "source": [
    "### Exercício 1\n",
    "Função para filtrar números dentro de intervalo.\n"
   ]
  },
  {
   "cell_type": "markdown",
   "id": "80ec4a98",
   "metadata": {},
   "source": [
    "### Exercício 2\n",
    "Programa principal com lista de 10 números e uso da função.\n"
   ]
  },
  {
   "cell_type": "markdown",
   "id": "c2575334",
   "metadata": {},
   "source": [
    "### Exercício 3\n",
    "Criação de dicionário de quadrados de 0 até N.\n"
   ]
  },
  {
   "cell_type": "markdown",
   "id": "2ad3fc2f",
   "metadata": {},
   "source": [
    "### Exercício 4\n",
    "Sistema de cardápio com dicionário: adicionar, modificar e remover.\n"
   ]
  }
 ],
 "metadata": {
  "kernelspec": {
   "display_name": "base",
   "language": "python",
   "name": "python3"
  },
  "language_info": {
   "name": "python",
   "version": "3.11.7"
  }
 },
 "nbformat": 4,
 "nbformat_minor": 5
}
