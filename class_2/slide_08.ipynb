{
 "cells": [
  {
   "cell_type": "markdown",
   "id": "468c2725",
   "metadata": {},
   "source": [
    "# Aula Didática: Listas (Vetores) em Python\n",
    "## Baseado nos materiais fornecidos, vamos explorar listas de forma prática e interativa"
   ]
  },
  {
   "cell_type": "markdown",
   "id": "a13154a0",
   "metadata": {},
   "source": [
    "1. O que são Listas?\n",
    "São estruturas que armazenam múltiplos valores em uma única variável. Imagine uma caixa com compartimentos:"
   ]
  },
  {
   "cell_type": "code",
   "execution_count": null,
   "id": "2f424249",
   "metadata": {},
   "outputs": [
    {
     "name": "stdout",
     "output_type": "stream",
     "text": [
      "Carol é uma string\n",
      "1 é um inteiro\n",
      "6 é um inteiro\n",
      "True é um inteiro\n",
      "5.5 é um float\n",
      "b é uma string\n"
     ]
    }
   ],
   "source": [
    "# Lista com diferentes tipos de dados\n",
    "dados = [\"Carol\", 1, 6, True, 5.5, 'b']\n",
    "\n",
    "# Lista numérica\n",
    "numeros = [2, 5, 7, 9]\n",
    "\n",
    "for x in dados:\n",
    "    if isinstance(x, str):\n",
    "        print(f\"{x} é uma string\")\n",
    "    elif isinstance(x, int):\n",
    "        print(f\"{x} é um inteiro\")\n",
    "    elif isinstance(x, float):\n",
    "        print(f\"{x} é um float\")\n",
    "    elif isinstance(x, bool):\n",
    "        print(f\"{x} é um booleano\")"
   ]
  },
  {
   "cell_type": "markdown",
   "id": "4227bee6",
   "metadata": {},
   "source": [
    "2. Operações Básicas\n",
    "Vamos manipular listas com comandos essenciais:"
   ]
  },
  {
   "cell_type": "code",
   "execution_count": 3,
   "id": "51e77041",
   "metadata": {},
   "outputs": [],
   "source": [
    "# Criando uma lista\n",
    "valores = [4, 7, -23, 67]\n",
    "\n",
    "# Substituir valor na posição 2\n",
    "valores[2] = 8  # Resultado: [4, 7, 8, 67]\n",
    "\n",
    "# Adicionar novo valor ao final\n",
    "valores.append(1)  # [4, 7, 8, 67, 1]\n",
    "\n",
    "# Inserir em posição específica\n",
    "valores.insert(0, 100)  # [100, 4, 7, 8, 67, 1]\n",
    "\n",
    "# Ordenar (crescente/decrescente)\n",
    "valores.sort()  # [1, 4, 7, 8, 67, 100]\n",
    "valores.sort(reverse=True)  # [100, 67, 8, 7, 4, 1]\n",
    "\n",
    "# Remover elementos\n",
    "valores.pop()      # Remove o último (100 → [67, 8, 7, 4, 1])\n",
    "valores.pop(0)     # Remove posição 0 (67 → [8, 7, 4, 1])\n",
    "valores.remove(8)  # Remove o valor 8 → [7, 4, 1]"
   ]
  },
  {
   "cell_type": "markdown",
   "id": "df72fc37",
   "metadata": {},
   "source": [
    "3. Funções Úteis\n",
    "Calcule estatísticas rapidamente:"
   ]
  },
  {
   "cell_type": "code",
   "execution_count": null,
   "id": "ee0e83ec",
   "metadata": {},
   "outputs": [],
   "source": [
    "notas = [6.0, 8.5, 4.5, 10.0, 9.5]\n",
    "\n",
    "print(\"Menor nota:\", min(notas))    # 4.5\n",
    "print(\"Maior nota:\", max(notas))    # 10.0\n",
    "print(\"Soma das notas:\", sum(notas)) # 38.5\n",
    "print(\"Média:\", sum(notas)/len(notas)) # 7.7"
   ]
  },
  {
   "cell_type": "markdown",
   "id": "dcb5b06b",
   "metadata": {},
   "source": [
    "4. Percorrendo Listas\n",
    "Use for e enumerate para acessar índices e valores:"
   ]
  },
  {
   "cell_type": "code",
   "execution_count": null,
   "id": "5494afa8",
   "metadata": {},
   "outputs": [
    {
     "name": "stdout",
     "output_type": "stream",
     "text": [
      "a: 5, b: 6, c: 1\n",
      "Posição 0: valor 5\n",
      "Posição 1: valor 6\n",
      "Posição 2: valor 1\n"
     ]
    }
   ],
   "source": [
    "valores = [5, 6, 1]\n",
    "a, b, c = valores\n",
    "\n",
    "# Atribuição desestruturada\n",
    "print(f\"a: {a}, b: {b}, c: {c}\")  # a: 5, b: 6, c: 1\n",
    "\n",
    "\n",
    "\n",
    "for posicao, valor in enumerate(valores):\n",
    "    print(f\"Posição {posicao}: valor {valor}\")\n",
    "\n",
    "# Saída:\n",
    "# Posição 0: valor 5\n",
    "# Posição 1: valor 6\n",
    "# Posição 2: valor 1"
   ]
  },
  {
   "cell_type": "markdown",
   "id": "4c87b687",
   "metadata": {},
   "source": [
    "5. Operações Avançadas\n",
    "Concatenação:"
   ]
  },
  {
   "cell_type": "code",
   "execution_count": null,
   "id": "1a51721e",
   "metadata": {},
   "outputs": [],
   "source": [
    "animais_domesticos = ['cachorro', 'gato', 'coelho']\n",
    "animais_selvagens = ['leao', 'zebra', 'girafa']\n",
    "todos_animais = animais_domesticos + animais_selvagens\n",
    "# Resultado: ['cachorro', 'gato', 'coelho', 'leao', 'zebra', 'girafa']\n",
    "\n"
   ]
  },
  {
   "cell_type": "code",
   "execution_count": null,
   "id": "a4f6f535",
   "metadata": {},
   "outputs": [],
   "source": [
    "animais = ['cachorro', 'gato', 'gato', 'coelho']\n",
    "print(animais.count('gato'))  # 2"
   ]
  },
  {
   "cell_type": "markdown",
   "id": "b54e19d0",
   "metadata": {},
   "source": [
    "Vamos Praticar?\n",
    "Desafio 1: Separar Pares e Ímpares"
   ]
  },
  {
   "cell_type": "code",
   "execution_count": null,
   "id": "2fdb4c21",
   "metadata": {},
   "outputs": [],
   "source": [
    "numeros = []\n",
    "pares = []\n",
    "impares = []\n",
    "\n",
    "for i in range(5):\n",
    "    numero = int(input(f\"Digite o {i+1}º número: \"))\n",
    "    numeros.append(numero)\n",
    "\n",
    "for num in numeros:\n",
    "    if num % 2 == 0:\n",
    "        pares.append(num)\n",
    "    else:\n",
    "        impares.append(num)\n",
    "\n",
    "print(\"Números:\", numeros)\n",
    "print(\"Pares:\", pares)\n",
    "print(\"Ímpares:\", impares)"
   ]
  },
  {
   "cell_type": "markdown",
   "id": "2ffbff3c",
   "metadata": {},
   "source": [
    "Desafio 2: Análise de Vendas"
   ]
  },
  {
   "cell_type": "code",
   "execution_count": null,
   "id": "c75dd188",
   "metadata": {},
   "outputs": [],
   "source": [
    "pesos = []\n",
    "quantidade = int(input(\"Quantos produtos vendidos? \"))\n",
    "\n",
    "for i in range(quantidade):\n",
    "    peso = float(input(f\"Peso do produto {i+1} (kg): \"))\n",
    "    pesos.append(peso)\n",
    "\n",
    "media = sum(pesos) / quantidade\n",
    "arrecadado = sum(pesos) * 4.35\n",
    "\n",
    "print(f\"Peso médio: {media:.2f} kg\")\n",
    "print(f\"Maior peso: {max(pesos)} kg | Menor peso: {min(pesos)} kg\")\n",
    "print(f\"Total arrecadado: R${arrecadado:.2f}\")"
   ]
  }
 ],
 "metadata": {
  "kernelspec": {
   "display_name": "base",
   "language": "python",
   "name": "python3"
  },
  "language_info": {
   "codemirror_mode": {
    "name": "ipython",
    "version": 3
   },
   "file_extension": ".py",
   "mimetype": "text/x-python",
   "name": "python",
   "nbconvert_exporter": "python",
   "pygments_lexer": "ipython3",
   "version": "3.11.7"
  }
 },
 "nbformat": 4,
 "nbformat_minor": 5
}
