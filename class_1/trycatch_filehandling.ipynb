{
 "cells": [
  {
   "cell_type": "markdown",
   "id": "f35ddf7e",
   "metadata": {},
   "source": [
    "# Aula: Trabalhando com Arquivos e Tratamento de Erros em Python\n",
    "## Neste notebook, vamos aprender sobre dois conceitos fundamentais em Python:\n",
    "\n",
    "### - Modos de abertura de arquivos\n",
    "### - Tratamento de erros com try/except"
   ]
  },
  {
   "cell_type": "markdown",
   "id": "63f960fe",
   "metadata": {},
   "source": [
    "1. Modos de Abertura de Arquivos\n",
    "Python oferece diferentes modos para trabalhar com arquivos. Aqui estão os principais:\n",
    "\n",
    "\n",
    "| Modo | Descrição                                      |\n",
    "|------|------------------------------------------------|\n",
    "| `r`  | Leitura (padrão)                               |\n",
    "| `w`  | Escrita (sobrescreve o arquivo existente)      |\n",
    "| `a`  | Escrita (adiciona ao final do arquivo)         |\n",
    "| `x`  | Criação (falha se o arquivo já existir)        |\n",
    "| `b`  | Modo binário                                   |\n",
    "| `t`  | Modo texto (padrão)                            |\n",
    "| `+`  | Atualização (leitura e escrita)                |"
   ]
  },
  {
   "cell_type": "markdown",
   "id": "4b5de0bc",
   "metadata": {},
   "source": [
    "#### Abrindo arquivo para escrita (modo 'w')"
   ]
  },
  {
   "cell_type": "code",
   "execution_count": 1,
   "id": "a1645df6",
   "metadata": {},
   "outputs": [
    {
     "name": "stdout",
     "output_type": "stream",
     "text": [
      "Arquivo 'exemplo.txt' criado com sucesso!\n"
     ]
    }
   ],
   "source": [
    "arquivo = open(\"exemplo.txt\", \"w\")\n",
    "arquivo.write(\"Primeira linha\\n\")\n",
    "arquivo.write(\"Segunda linha\\n\")\n",
    "arquivo.close()\n",
    "\n",
    "print(\"Arquivo 'exemplo.txt' criado com sucesso!\")"
   ]
  },
  {
   "cell_type": "code",
   "execution_count": 5,
   "id": "c1a589ca",
   "metadata": {},
   "outputs": [
    {
     "name": "stdout",
     "output_type": "stream",
     "text": [
      "Conteúdo do arquivo:\n",
      "Primeira linha\n",
      "Segunda linha\n",
      "Igor nauta\n",
      "\n"
     ]
    }
   ],
   "source": [
    "# Abrindo arquivo para leitura (modo 'r')\n",
    "arquivo = open(\"exemplo.txt\", \"r\")\n",
    "conteudo = arquivo.read()\n",
    "arquivo.close()\n",
    "\n",
    "print(\"Conteúdo do arquivo:\")\n",
    "print(conteudo)"
   ]
  },
  {
   "cell_type": "code",
   "execution_count": 7,
   "id": "2ddc0cbd",
   "metadata": {},
   "outputs": [
    {
     "name": "stdout",
     "output_type": "stream",
     "text": [
      "Conteúdo atualizado:\n",
      "Primeira linha\n",
      "Segunda linha\n",
      "Igor nauta\n",
      "Terceira linha (adicionada depois)\n",
      "Quinta linha (adicionada depois)\n",
      "\n"
     ]
    }
   ],
   "source": [
    "# Abrindo arquivo para adição (modo 'a')\n",
    "arquivo = open(\"exemplo.txt\", \"a\")\n",
    "arquivo.write(\"Quinta linha (adicionada depois)\\n\")\n",
    "arquivo.close()\n",
    "\n",
    "# Lendo novamente para ver as alterações\n",
    "arquivo = open(\"exemplo.txt\", \"r\")\n",
    "print(\"Conteúdo atualizado:\")\n",
    "print(arquivo.read())\n",
    "arquivo.close()"
   ]
  },
  {
   "cell_type": "code",
   "execution_count": 8,
   "id": "d3954d83",
   "metadata": {},
   "outputs": [
    {
     "name": "stdout",
     "output_type": "stream",
     "text": [
      "Conteúdo com gerenciador de contexto:\n",
      "Usando gerenciador de contexto\n",
      "Arquivo será fechado automaticamente\n",
      "\n"
     ]
    }
   ],
   "source": [
    "# Escrevendo com gerenciador de contexto\n",
    "with open(\"exemplo_safe.txt\", \"w\") as arquivo:\n",
    "    arquivo.write(\"Usando gerenciador de contexto\\n\")\n",
    "    arquivo.write(\"Arquivo será fechado automaticamente\\n\")\n",
    "\n",
    "# Lendo com gerenciador de contexto\n",
    "with open(\"exemplo_safe.txt\", \"r\") as arquivo:\n",
    "    print(\"Conteúdo com gerenciador de contexto:\")\n",
    "    print(arquivo.read())"
   ]
  },
  {
   "cell_type": "markdown",
   "id": "88dce22d",
   "metadata": {},
   "source": [
    "# 2. Tratamento de Erros (Try/Except)\n",
    "\n",
    "**O que é?**\n",
    "\n",
    "Mecanismo para lidar com exceções (erros) durante a execução do programa, evitando que ele pare abruptamente."
   ]
  },
  {
   "cell_type": "code",
   "execution_count": null,
   "id": "a1471757",
   "metadata": {},
   "outputs": [],
   "source": [
    "try:\n",
    "    # Código que pode gerar erro\n",
    "except TipoErro:\n",
    "    # Ação se o erro ocorrer"
   ]
  },
  {
   "cell_type": "markdown",
   "id": "768709e2",
   "metadata": {},
   "source": [
    "### Exemplo: Divisão segura"
   ]
  },
  {
   "cell_type": "code",
   "execution_count": null,
   "id": "6ca03629",
   "metadata": {},
   "outputs": [
    {
     "name": "stdout",
     "output_type": "stream",
     "text": [
      "Resultado: 5.0\n",
      "Erro: Divisão por zero!\n",
      "Erro: Tipos de dados inválidos!\n"
     ]
    }
   ],
   "source": [
    "\n",
    "def dividir(a, b):\n",
    "    try:\n",
    "        resultado = a / b\n",
    "        print(f\"Resultado: {resultado}\")\n",
    "    except ZeroDivisionError:\n",
    "        print(\"Erro: Divisão por zero!\")\n",
    "    except TypeError:\n",
    "        print(\"Erro: Tipos de dados inválidos!\")\n",
    "    except Exception as e:\n",
    "        print(f\"Erro inesperado: {e}\")\n",
    "\n",
    "# Testando\n",
    "dividir(10, 2)\n",
    "dividir(10, 0)\n",
    "dividir(\"10\", 2)"
   ]
  },
  {
   "cell_type": "markdown",
   "id": "1380028e",
   "metadata": {},
   "source": [
    "### Exemplo: Verificar Número Primo com Tratamento de Erros"
   ]
  },
  {
   "cell_type": "code",
   "execution_count": null,
   "id": "b04919b7",
   "metadata": {},
   "outputs": [
    {
     "name": "stdout",
     "output_type": "stream",
     "text": [
      "7 é primo? True\n",
      "8 é primo? False\n",
      "Erro: Valor inválido!\n",
      "Texto é primo? None\n"
     ]
    }
   ],
   "source": [
    "def verificar_primo(numero):\n",
    "    try:\n",
    "        numero = int(numero)\n",
    "        if numero <= 1:\n",
    "            return False\n",
    "        for i in range(2, int(numero**0.5) + 1):\n",
    "            if numero % i == 0:\n",
    "                return False\n",
    "        return True\n",
    "    except TypeError:\n",
    "        print(\"Erro: Insira um número inteiro!\")\n",
    "    except ValueError:\n",
    "        print(\"Erro: Valor inválido!\")\n",
    "    except Exception as e:\n",
    "        print(f\"Erro inesperado: {e}\")\n",
    "\n",
    "# Testes\n",
    "print(\"7 é primo?\", verificar_primo(7))\n",
    "print(\"8 é primo?\", verificar_primo(8))\n",
    "print(\"Texto é primo?\", verificar_primo(\"abc\"))"
   ]
  },
  {
   "cell_type": "markdown",
   "id": "bf7f9a70",
   "metadata": {},
   "source": [
    "### Exercício: \n",
    "#### Crie um programa que:\n",
    "\n",
    "1. Solicite ao usuário o nome de um arquivo;\n",
    "2. Solicite conteúdo para gravar no arquivo;\n",
    "3. Grave o conteúdo no arquivo;\n",
    "4. Trate possíveis erros (ex: permissão, disco cheio)."
   ]
  }
 ],
 "metadata": {
  "kernelspec": {
   "display_name": "base",
   "language": "python",
   "name": "python3"
  },
  "language_info": {
   "codemirror_mode": {
    "name": "ipython",
    "version": 3
   },
   "file_extension": ".py",
   "mimetype": "text/x-python",
   "name": "python",
   "nbconvert_exporter": "python",
   "pygments_lexer": "ipython3",
   "version": "3.11.7"
  }
 },
 "nbformat": 4,
 "nbformat_minor": 5
}
