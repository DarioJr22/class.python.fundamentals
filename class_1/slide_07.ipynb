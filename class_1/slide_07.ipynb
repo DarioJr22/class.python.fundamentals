{
 "cells": [
  {
   "cell_type": "markdown",
   "id": "8db92068",
   "metadata": {},
   "source": [
    "# Aula 07: Estruturas de Repetição\n",
    "## **Objetivos:**  \n",
    "### - Loop while  \n",
    "### - Contadores e acumuladores  \n",
    "### - Aplicações práticas  \n"
   ]
  },
  {
   "cell_type": "markdown",
   "id": "3dfbd8ce",
   "metadata": {},
   "source": [
    "\n",
    "#### 1. Loop While Básico"
   ]
  },
  {
   "cell_type": "code",
   "execution_count": 1,
   "id": "930eb1b8",
   "metadata": {},
   "outputs": [
    {
     "name": "stdout",
     "output_type": "stream",
     "text": [
      "Contagem: 1\n",
      "Contagem: 2\n",
      "Contagem: 3\n",
      "Contagem: 4\n",
      "Contagem: 5\n"
     ]
    }
   ],
   "source": [
    "contador = 1\n",
    "while contador <= 5:\n",
    "    print(f\"Contagem: {contador}\")\n",
    "    contador += 1"
   ]
  },
  {
   "cell_type": "markdown",
   "id": "efb456f4",
   "metadata": {},
   "source": [
    "#### 2. Acumuladores"
   ]
  },
  {
   "cell_type": "code",
   "execution_count": 2,
   "id": "61ea9873",
   "metadata": {},
   "outputs": [
    {
     "name": "stdout",
     "output_type": "stream",
     "text": [
      "Soma total: 9.0\n"
     ]
    }
   ],
   "source": [
    "soma = 0\n",
    "cont = 1\n",
    "\n",
    "while cont <= 5:\n",
    "    numero = float(input(f\"Digite o {cont}º número: \"))\n",
    "    soma += numero\n",
    "    cont += 1\n",
    "\n",
    "\n",
    "print(f\"Soma total: {soma}\")\n"
   ]
  },
  {
   "cell_type": "markdown",
   "id": "04267781",
   "metadata": {},
   "source": [
    "#### Sistema de notas com saída condicional"
   ]
  },
  {
   "cell_type": "code",
   "execution_count": 5,
   "id": "53c8d701",
   "metadata": {},
   "outputs": [
    {
     "name": "stdout",
     "output_type": "stream",
     "text": [
      "\n",
      "Média das notas: 5.3\n"
     ]
    }
   ],
   "source": [
    "soma_notas = 0\n",
    "qtd_notas = 0\n",
    "\n",
    "while True:\n",
    "    entrada = input(\"Digite uma nota ou 'sair' para encerrar: \")\n",
    "    \n",
    "    if entrada.lower() == 'sair':\n",
    "        break\n",
    "        \n",
    "    nota = float(entrada)\n",
    "    \n",
    "    if nota < 0 or nota > 10:\n",
    "        print(\"Nota inválida! Digite valores entre 0 e 10.\")\n",
    "        continue\n",
    "        \n",
    "    soma_notas += nota\n",
    "    qtd_notas += 1\n",
    "\n",
    "if qtd_notas > 0:\n",
    "    media = soma_notas / qtd_notas\n",
    "    print(f\"\\nMédia das notas: {media:.1f}\")"
   ]
  },
  {
   "cell_type": "markdown",
   "id": "ded34ae3",
   "metadata": {},
   "source": [
    "#### Exercício 1: Cadastro de Carros"
   ]
  },
  {
   "cell_type": "code",
   "execution_count": 6,
   "id": "59cb666f",
   "metadata": {},
   "outputs": [
    {
     "name": "stdout",
     "output_type": "stream",
     "text": [
      "\n",
      "Total de carros cadastrados: 2\n",
      "Carro mais novo: hyundai (2020)\n",
      "Carro mais antigo: ford (2010)\n"
     ]
    }
   ],
   "source": [
    "mais_novo = {\"ano\": 0, \"marca\": \"\"}\n",
    "mais_antigo = {\"ano\": float('inf'), \"marca\": \"\"}\n",
    "total_carros = 0\n",
    "\n",
    "while True:\n",
    "    marca = input(\"\\nMarca do carro (ou 'sair' para finalizar): \")\n",
    "    \n",
    "    if marca.lower() == 'sair':\n",
    "        break\n",
    "        \n",
    "    ano = int(input(\"Ano de lançamento: \"))\n",
    "    total_carros += 1\n",
    "    \n",
    "    # Verifica mais novo\n",
    "    if ano > mais_novo[\"ano\"]:\n",
    "        mais_novo = {\"ano\": ano, \"marca\": marca}\n",
    "    \n",
    "    # Verifica mais antigo\n",
    "    if ano < mais_antigo[\"ano\"]:\n",
    "        mais_antigo = {\"ano\": ano, \"marca\": marca}\n",
    "\n",
    "# Resultados\n",
    "print(f\"\\nTotal de carros cadastrados: {total_carros}\")\n",
    "print(f\"Carro mais novo: {mais_novo['marca']} ({mais_novo['ano']})\")\n",
    "print(f\"Carro mais antigo: {mais_antigo['marca']} ({mais_antigo['ano']})\")"
   ]
  },
  {
   "cell_type": "markdown",
   "id": "6b762870",
   "metadata": {},
   "source": [
    "#### Exercício 2: Sistema de Compras\n"
   ]
  },
  {
   "cell_type": "code",
   "execution_count": 7,
   "id": "5047e78f",
   "metadata": {},
   "outputs": [
    {
     "name": "stdout",
     "output_type": "stream",
     "text": [
      "Subtotal: R$10.00\n",
      "Subtotal: R$20.00\n",
      "Subtotal: R$30.00\n",
      "Subtotal: R$40.00\n",
      "Subtotal: R$50.00\n",
      "Subtotal: R$95.00\n",
      "\n",
      "TOTAL A PAGAR: R$95.00\n"
     ]
    }
   ],
   "source": [
    "total = 0\n",
    "\n",
    "while True:\n",
    "    valor = float(input(\"\\nValor do produto (0 para finalizar): R$\"))\n",
    "    \n",
    "    if valor == 0:\n",
    "        break\n",
    "        \n",
    "    if valor < 0:\n",
    "        print(\"Valor inválido! Digite valores positivos.\")\n",
    "        continue\n",
    "        \n",
    "    total += valor\n",
    "    print(f\"Subtotal: R${total:.2f}\")\n",
    "\n",
    "# Aplica desconto se necessário\n",
    "if total > 1000:\n",
    "    desconto = total * 0.10\n",
    "    total_final = total - desconto\n",
    "    print(f\"\\nDESCONTO APLICADO: R${desconto:.2f}\")\n",
    "else:\n",
    "    total_final = total\n",
    "\n",
    "print(f\"\\nTOTAL A PAGAR: R${total_final:.2f}\")"
   ]
  }
 ],
 "metadata": {
  "kernelspec": {
   "display_name": "base",
   "language": "python",
   "name": "python3"
  },
  "language_info": {
   "codemirror_mode": {
    "name": "ipython",
    "version": 3
   },
   "file_extension": ".py",
   "mimetype": "text/x-python",
   "name": "python",
   "nbconvert_exporter": "python",
   "pygments_lexer": "ipython3",
   "version": "3.11.7"
  }
 },
 "nbformat": 4,
 "nbformat_minor": 5
}
