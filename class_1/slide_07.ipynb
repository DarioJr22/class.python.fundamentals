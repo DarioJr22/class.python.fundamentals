{
 "cells": [
  {
   "cell_type": "markdown",
   "id": "8db92068",
   "metadata": {},
   "source": [
    "# Aula 07: Estruturas de Repetição\n",
    "## **Objetivos:**  \n",
    "### - Loop while  \n",
    "### - Contadores e acumuladores  \n",
    "### - Aplicações práticas  \n"
   ]
  },
  {
   "cell_type": "markdown",
   "id": "3dfbd8ce",
   "metadata": {},
   "source": [
    "\n",
    "#### 1. Loop While Básico"
   ]
  },
  {
   "cell_type": "code",
   "execution_count": 1,
   "id": "930eb1b8",
   "metadata": {},
   "outputs": [
    {
     "name": "stdout",
     "output_type": "stream",
     "text": [
      "Contagem: 1\n",
      "Contagem: 2\n",
      "Contagem: 3\n",
      "Contagem: 4\n",
      "Contagem: 5\n"
     ]
    }
   ],
   "source": [
    "contador = 1\n",
    "while contador <= 5:\n",
    "    print(f\"Contagem: {contador}\")\n",
    "    contador += 1"
   ]
  },
  {
   "cell_type": "markdown",
   "id": "efb456f4",
   "metadata": {},
   "source": [
    "#### 2. Acumuladores"
   ]
  },
  {
   "cell_type": "code",
   "execution_count": null,
   "id": "61ea9873",
   "metadata": {},
   "outputs": [
    {
     "ename": "ValueError",
     "evalue": "could not convert string to float: ''",
     "output_type": "error",
     "traceback": [
      "\u001b[0;31m---------------------------------------------------------------------------\u001b[0m",
      "\u001b[0;31mValueError\u001b[0m                                Traceback (most recent call last)",
      "Cell \u001b[0;32mIn[2], line 6\u001b[0m\n\u001b[1;32m      2\u001b[0m i \u001b[38;5;241m=\u001b[39m \u001b[38;5;241m1\u001b[39m\n\u001b[1;32m      4\u001b[0m \u001b[38;5;28;01mwhile\u001b[39;00m i \u001b[38;5;241m<\u001b[39m\u001b[38;5;241m=\u001b[39m \u001b[38;5;241m5\u001b[39m:\n\u001b[0;32m----> 6\u001b[0m     numero \u001b[38;5;241m=\u001b[39m \u001b[38;5;28mfloat\u001b[39m(\u001b[38;5;28minput\u001b[39m(\u001b[38;5;124mf\u001b[39m\u001b[38;5;124m\"\u001b[39m\u001b[38;5;124mDigite o \u001b[39m\u001b[38;5;132;01m{\u001b[39;00mi\u001b[38;5;132;01m}\u001b[39;00m\u001b[38;5;124mº número: \u001b[39m\u001b[38;5;124m\"\u001b[39m)) \n\u001b[1;32m      7\u001b[0m     soma \u001b[38;5;241m+\u001b[39m\u001b[38;5;241m=\u001b[39m numero\n\u001b[1;32m      8\u001b[0m     \u001b[38;5;28;01mif\u001b[39;00m i \u001b[38;5;241m==\u001b[39m \u001b[38;5;241m3\u001b[39m: \u001b[38;5;28;01mcontinue\u001b[39;00m\n",
      "\u001b[0;31mValueError\u001b[0m: could not convert string to float: ''"
     ]
    }
   ],
   "source": [
    "soma = 0\n",
    "i = 1\n",
    "# continue\n",
    "# break\n",
    "\n",
    "while i <= 5:\n",
    "    numero = float(input(f\"Digite o {i}º número: \")) \n",
    "    soma += numero\n",
    "    i += 1\n",
    "\n",
    "\n",
    "print(f\"Soma total: {soma}\")\n"
   ]
  },
  {
   "cell_type": "markdown",
   "id": "04267781",
   "metadata": {},
   "source": [
    "#### Sistema de notas com saída condicional"
   ]
  },
  {
   "cell_type": "code",
   "execution_count": 5,
   "id": "53c8d701",
   "metadata": {},
   "outputs": [
    {
     "name": "stdout",
     "output_type": "stream",
     "text": [
      "\n",
      "Média das notas: 6.3333333333\n"
     ]
    }
   ],
   "source": [
    "soma_notas = 0\n",
    "qtd_notas = 0\n",
    "\n",
    "while True:\n",
    "    entrada = input(\"Digite uma nota ou 'sair' para encerrar: \")\n",
    "    \n",
    "    if entrada.lower() == 'sair':\n",
    "        break\n",
    "        \n",
    "    nota = float(entrada)\n",
    "    \n",
    "    if nota < 0 or nota > 10:\n",
    "        print(\"Nota inválida! Digite valores entre 0 e 10.\")\n",
    "        continue\n",
    "        \n",
    "    soma_notas += nota\n",
    "    qtd_notas += 1\n",
    "\n",
    "if qtd_notas > 0:\n",
    "    media = soma_notas / qtd_notas\n",
    "    print(f\"\\nMédia das notas: {media:.10f}\")"
   ]
  },
  {
   "cell_type": "markdown",
   "id": "ded34ae3",
   "metadata": {},
   "source": [
    "#### Exercício 1: Cadastro de Carros"
   ]
  },
  {
   "cell_type": "code",
   "execution_count": 7,
   "id": "59cb666f",
   "metadata": {},
   "outputs": [
    {
     "name": "stdout",
     "output_type": "stream",
     "text": [
      "\n",
      "Total de carros cadastrados: 3\n",
      "Carro mais novo: civic (2023)\n",
      "Carro mais antigo: prisma (1925)\n",
      "\n",
      "Lista de carros cadastrados:\n",
      "honda (2000)\n",
      "prisma (1925)\n",
      "civic (2023)\n"
     ]
    }
   ],
   "source": [
    "mais_novo = {\"ano\": 0, \"marca\": \"\"}\n",
    "mais_antigo = {\"ano\": float('inf'), \"marca\": \"\"}\n",
    "lista_carros = []\n",
    "total_carros = 0\n",
    "\n",
    "while True:\n",
    "    marca = input(\"\\nMarca do carro (ou 'sair' para finalizar): \")\n",
    "    \n",
    "    if marca.lower() == 'sair':\n",
    "        break\n",
    "        \n",
    "    ano = int(input(\"Ano de lançamento: \"))\n",
    "    total_carros += 1\n",
    "    \n",
    "    # Verifica mais novo\n",
    "    if ano > mais_novo[\"ano\"]:\n",
    "        mais_novo = {\"ano\": ano, \"marca\": marca}\n",
    "    \n",
    "    # Verifica mais antigo\n",
    "    if ano < mais_antigo[\"ano\"]:\n",
    "        mais_antigo = {\"ano\": ano, \"marca\": marca}\n",
    "\n",
    "    # Adiciona carro à lista\n",
    "    lista_carros.append({\"marca\": marca, \"ano\": ano})\n",
    "\n",
    "# Resultados\n",
    "print(f\"\\nTotal de carros cadastrados: {total_carros}\")\n",
    "print(f\"Carro mais novo: {mais_novo['marca']} ({mais_novo['ano']})\")\n",
    "print(f\"Carro mais antigo: {mais_antigo['marca']} ({mais_antigo['ano']})\")\n",
    "print(\"\\nLista de carros cadastrados:\")\n",
    "for carro in lista_carros:\n",
    "    print(f\"{carro['marca']} ({carro['ano']})\")"
   ]
  },
  {
   "cell_type": "markdown",
   "id": "6b762870",
   "metadata": {},
   "source": [
    "#### Exercício 2: Sistema de Compras\n"
   ]
  },
  {
   "cell_type": "code",
   "execution_count": 8,
   "id": "5047e78f",
   "metadata": {},
   "outputs": [
    {
     "name": "stdout",
     "output_type": "stream",
     "text": [
      "Subtotal: R$100.00\n",
      "Subtotal: R$300.00\n",
      "Subtotal: R$600.00\n",
      "Subtotal: R$700.00\n",
      "Subtotal: R$745.00\n",
      "Subtotal: R$1065.00\n",
      "\n",
      "DESCONTO APLICADO: R$106.50\n",
      "\n",
      "TOTAL A PAGAR: R$958.50\n"
     ]
    }
   ],
   "source": [
    "total = 0\n",
    "\n",
    "while True:\n",
    "    valor = float(input(\"\\nValor do produto (0 para finalizar): R$\"))\n",
    "    \n",
    "    if valor == 0:\n",
    "        break\n",
    "        \n",
    "    if valor < 0:\n",
    "        valor = abs(valor)\n",
    "\n",
    "        \n",
    "    total += valor\n",
    "    print(f\"Subtotal: R${total:.2f}\")\n",
    "\n",
    "# Aplica desconto se necessário\n",
    "if total > 1000:\n",
    "    desconto = total * 0.10\n",
    "    total_final = total - desconto\n",
    "    print(f\"\\nDESCONTO APLICADO: R${desconto:.2f}\")\n",
    "else:\n",
    "    total_final = total\n",
    "\n",
    "print(f\"\\nTOTAL A PAGAR: R${total_final:.2f}\")"
   ]
  }
 ],
 "metadata": {
  "kernelspec": {
   "display_name": "base",
   "language": "python",
   "name": "python3"
  },
  "language_info": {
   "codemirror_mode": {
    "name": "ipython",
    "version": 3
   },
   "file_extension": ".py",
   "mimetype": "text/x-python",
   "name": "python",
   "nbconvert_exporter": "python",
   "pygments_lexer": "ipython3",
   "version": "3.11.7"
  }
 },
 "nbformat": 4,
 "nbformat_minor": 5
}
