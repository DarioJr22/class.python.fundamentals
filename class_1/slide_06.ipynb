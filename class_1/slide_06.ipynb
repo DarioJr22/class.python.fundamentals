{
 "cells": [
  {
   "cell_type": "markdown",
   "id": "f98b615a",
   "metadata": {},
   "source": [
    "# Aula 06: Estruturas Condicionais\n",
    "## **Objetivos:**  \n",
    "### - Estruturas condicionais simples  \n",
    "### - Compostas e aninhadas  \n",
    "### - Aplicações práticas  \n"
   ]
  },
  {
   "cell_type": "markdown",
   "id": "bec0609c",
   "metadata": {},
   "source": [
    "\n",
    "#### 1. Condicional Simples (if)"
   ]
  },
  {
   "cell_type": "code",
   "execution_count": 1,
   "id": "f5542478",
   "metadata": {},
   "outputs": [
    {
     "name": "stdout",
     "output_type": "stream",
     "text": [
      "Desconto aplicado! Valor final: R$17.00\n"
     ]
    }
   ],
   "source": [
    "valor_compra = float(input(\"Valor da compra: R$\"))\n",
    "cupom = input(\"Cupom de desconto: \")\n",
    "\n",
    "if cupom == \"CESAR\" or cupom == \"CESARSCH\":\n",
    "    desconto = valor_compra * 0.15\n",
    "    valor_final = valor_compra - desconto\n",
    "    print(f\"Desconto aplicado! Valor final: R${valor_final:.2f}\")"
   ]
  },
  {
   "cell_type": "markdown",
   "id": "1e01e5db",
   "metadata": {},
   "source": [
    "#### 2. Condicional Composta (if-else)"
   ]
  },
  {
   "cell_type": "code",
   "execution_count": 2,
   "id": "24fae06b",
   "metadata": {},
   "outputs": [
    {
     "name": "stdout",
     "output_type": "stream",
     "text": [
      "Você não pode votar!\n"
     ]
    }
   ],
   "source": [
    "\n",
    "# Exemplo: Verificação de voto\n",
    "idade = int(input(\"Sua idade: \"))\n",
    "\n",
    "if idade < 16:\n",
    "    print(\"Você não pode votar!\")\n",
    "else:\n",
    "    print(\"Você pode votar!\")"
   ]
  },
  {
   "cell_type": "markdown",
   "id": "c798e9ea",
   "metadata": {},
   "source": [
    "#### 3. Condicional Aninhada (if-elif-else)"
   ]
  },
  {
   "cell_type": "code",
   "execution_count": 3,
   "id": "9073765b",
   "metadata": {},
   "outputs": [
    {
     "name": "stdout",
     "output_type": "stream",
     "text": [
      "Não pode votar\n"
     ]
    }
   ],
   "source": [
    "# Exemplo: Faixas de voto\n",
    "idade = int(input(\"Sua idade: \"))\n",
    "\n",
    "if idade < 16:\n",
    "    print(\"Não pode votar\")\n",
    "elif 18 <= idade <= 70:\n",
    "    print(\"Voto obrigatório\")\n",
    "else:\n",
    "    print(\"Voto opcional\")"
   ]
  },
  {
   "cell_type": "markdown",
   "id": "baba6bca",
   "metadata": {},
   "source": [
    "#### Exercício 1: Sistema de Músicas"
   ]
  },
  {
   "cell_type": "code",
   "execution_count": 5,
   "id": "ad6ca690",
   "metadata": {},
   "outputs": [
    {
     "name": "stdout",
     "output_type": "stream",
     "text": [
      "\n",
      "Tocando: É tarde demais\n"
     ]
    }
   ],
   "source": [
    "# Dicionário de músicas\n",
    "musicas = {\n",
    "    0: \"Cheia de manias\",\n",
    "    1: \"Me leva junto com você\",\n",
    "    2: \"É tarde demais\",\n",
    "    3: \"Quando te encontrei\",\n",
    "    4: \"Deus me livre\",\n",
    "    5: \"Ciúme de Você\",\n",
    "    6: \"Cigana\"\n",
    "}\n",
    "\n",
    "# Entrada e processamento\n",
    "valor1 = int(input(\"Primeiro valor: \"))\n",
    "valor2 = int(input(\"Segundo valor: \"))\n",
    "soma = valor1 + valor2\n",
    "\n",
    "if 0 <= soma <= 6:\n",
    "    print(f\"\\nTocando: {musicas[soma]}\")\n",
    "else:\n",
    "    print(\"Soma fora do intervalo válido!\")\n"
   ]
  },
  {
   "cell_type": "markdown",
   "id": "2c6f9256",
   "metadata": {},
   "source": [
    "#### Exercício 2: Cálculo de Potência (Voltorb)"
   ]
  },
  {
   "cell_type": "code",
   "execution_count": 6,
   "id": "16ce5800",
   "metadata": {},
   "outputs": [
    {
     "name": "stdout",
     "output_type": "stream",
     "text": [
      "Potência do choque: 28W\n"
     ]
    }
   ],
   "source": [
    "level = int(input(\"Level do Voltorb (1-100): \"))\n",
    "\n",
    "if 1 <= level <= 20:\n",
    "    potencia = 20 + level**3\n",
    "elif 21 <= level <= 40:\n",
    "    potencia = 8000 + (level - 10)**2\n",
    "elif 41 <= level <= 60:\n",
    "    potencia = 9000 + 5*level\n",
    "elif 61 <= level <= 80:\n",
    "    potencia = 9300 + 2*level\n",
    "elif 81 <= level <= 100:\n",
    "    potencia = 9500 + level\n",
    "else:\n",
    "    potencia = None\n",
    "    print(\"Level inválido!\")\n",
    "\n",
    "if potencia:\n",
    "    print(f\"Potência do choque: {potencia}W\")"
   ]
  },
  {
   "cell_type": "markdown",
   "id": "e7c3756c",
   "metadata": {},
   "source": [
    "#### Exercício 3: Reajuste Salarial"
   ]
  },
  {
   "cell_type": "code",
   "execution_count": null,
   "id": "61a4c3de",
   "metadata": {},
   "outputs": [],
   "source": [
    "from datetime import datetime\n",
    "\n",
    "ano_atual = datetime.now().year\n",
    "ano_admissao = int(input(\"Ano de admissão: \"))\n",
    "salario = float(input(\"Salário atual: R$\"))\n",
    "ano_ultimo_reajuste = int(input(\"Ano do último reajuste: \"))\n",
    "\n",
    "if (ano_atual - ano_ultimo_reajuste) >= 2:\n",
    "    tempo_empresa = ano_atual - ano_admissao\n",
    "    \n",
    "    if tempo_empresa > 10:\n",
    "        novo_salario = salario * 1.30\n",
    "    elif tempo_empresa >= 5:\n",
    "        novo_salario = salario * 1.20\n",
    "    else:\n",
    "        novo_salario = salario * 1.10\n",
    "        \n",
    "    print(f\"\\nNovo salário: R${novo_salario:.2f}\")\n",
    "else:\n",
    "    print(\"\\nNão apto para reajuste coletivo\")"
   ]
  }
 ],
 "metadata": {
  "kernelspec": {
   "display_name": "base",
   "language": "python",
   "name": "python3"
  },
  "language_info": {
   "codemirror_mode": {
    "name": "ipython",
    "version": 3
   },
   "file_extension": ".py",
   "mimetype": "text/x-python",
   "name": "python",
   "nbconvert_exporter": "python",
   "pygments_lexer": "ipython3",
   "version": "3.11.7"
  }
 },
 "nbformat": 4,
 "nbformat_minor": 5
}
